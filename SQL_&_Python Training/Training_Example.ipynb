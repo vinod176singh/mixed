{
 "cells": [
  {
   "cell_type": "code",
   "execution_count": 1,
   "id": "a8f19aa9-308d-497d-9248-e16b3f6857ac",
   "metadata": {},
   "outputs": [],
   "source": [
    "def fact(n):\n",
    "    if (n==1 or n==0):\n",
    "        return 1\n",
    "    else:\n",
    "        return n*fact(n-1)"
   ]
  },
  {
   "cell_type": "code",
   "execution_count": 2,
   "id": "b63fbf66-6fa1-4ad1-80d6-38b50dcfa79b",
   "metadata": {},
   "outputs": [
    {
     "data": {
      "text/plain": [
       "720"
      ]
     },
     "execution_count": 2,
     "metadata": {},
     "output_type": "execute_result"
    }
   ],
   "source": [
    "fact(6)"
   ]
  },
  {
   "cell_type": "code",
   "execution_count": 3,
   "id": "066a702b-25db-4a1b-bf2d-1772f451a968",
   "metadata": {},
   "outputs": [],
   "source": [
    "def fibbo(n):\n",
    "    prev1=1\n",
    "    prev2=1\n",
    "    print(prev1)\n",
    "    print(prev2)\n",
    "    curr=prev1+prev2\n",
    "    while n>curr:\n",
    "        print(curr)\n",
    "        prev1=prev2\n",
    "        prev2=curr          \n",
    "        curr=prev1+prev2\n",
    "  "
   ]
  },
  {
   "cell_type": "code",
   "execution_count": 4,
   "id": "4399b78f-8810-4b79-8754-1e0bbc717449",
   "metadata": {},
   "outputs": [
    {
     "name": "stdout",
     "output_type": "stream",
     "text": [
      "1\n",
      "1\n",
      "2\n",
      "3\n",
      "5\n",
      "8\n"
     ]
    }
   ],
   "source": [
    "fibbo(10)"
   ]
  },
  {
   "cell_type": "code",
   "execution_count": 5,
   "id": "248d4d8e-8826-4df7-a192-5bee68a90231",
   "metadata": {},
   "outputs": [],
   "source": [
    "def palindrome(strg):\n",
    "    org_strg=strg\n",
    "    rev_strg=''.join(reversed(strg))\n",
    "    if org_strg==rev_strg:\n",
    "        print(\"Given String is pallidrom\")\n",
    "    else:\n",
    "        print(\"String is not pallidrom\")"
   ]
  },
  {
   "cell_type": "code",
   "execution_count": 6,
   "id": "6b786480-a850-4b78-a9b1-f22dd7f6c0f4",
   "metadata": {},
   "outputs": [
    {
     "name": "stdout",
     "output_type": "stream",
     "text": [
      "Given String is pallidrom\n"
     ]
    }
   ],
   "source": [
    "palindrome('abccba')"
   ]
  },
  {
   "cell_type": "code",
   "execution_count": 7,
   "id": "0bc0a1e3-a5b7-4833-beb9-d053f39695bc",
   "metadata": {},
   "outputs": [],
   "source": [
    "def even(n):\n",
    "    for i in range(2,n+1,2):\n",
    "        print(i)    "
   ]
  },
  {
   "cell_type": "code",
   "execution_count": 8,
   "id": "61686986-1c88-4dbe-93d2-79af84d863eb",
   "metadata": {},
   "outputs": [
    {
     "name": "stdout",
     "output_type": "stream",
     "text": [
      "2\n",
      "4\n",
      "6\n",
      "8\n",
      "10\n"
     ]
    }
   ],
   "source": [
    "even(11)"
   ]
  },
  {
   "cell_type": "code",
   "execution_count": 9,
   "id": "3b4e183f-8d89-4567-ab55-ce369e13cc33",
   "metadata": {},
   "outputs": [],
   "source": [
    "def odd(n):\n",
    "    for i in range(1,n+1,2):\n",
    "        print(i)    "
   ]
  },
  {
   "cell_type": "code",
   "execution_count": 10,
   "id": "dde80a87-e47e-4957-9b25-1be5f10276f7",
   "metadata": {},
   "outputs": [
    {
     "name": "stdout",
     "output_type": "stream",
     "text": [
      "1\n",
      "3\n",
      "5\n",
      "7\n",
      "9\n"
     ]
    }
   ],
   "source": [
    "odd(10)"
   ]
  },
  {
   "cell_type": "code",
   "execution_count": 11,
   "id": "ddb4afb7-421e-4f39-a658-49f2301010dd",
   "metadata": {},
   "outputs": [
    {
     "name": "stdout",
     "output_type": "stream",
     "text": [
      "2,3,5,7,11,13,17,19,23,29,31,37,41,43,47,53,59,61,67,71,73,79,83,89,97,"
     ]
    }
   ],
   "source": [
    "def isPrime(n):\n",
    "    if n==0 or n==1:\n",
    "        return False\n",
    "    for i in range(2,n):\n",
    "        if n%i==0:\n",
    "            return False\n",
    "    return True \n",
    "n=100\n",
    "for i in range(2,n+1):\n",
    "    if isPrime(i):\n",
    "        print(i,end=',')"
   ]
  },
  {
   "cell_type": "code",
   "execution_count": 12,
   "id": "4fb612bc-fe9a-468b-b050-b5d0d08076a6",
   "metadata": {},
   "outputs": [
    {
     "data": {
      "text/plain": [
       "9"
      ]
     },
     "execution_count": 12,
     "metadata": {},
     "output_type": "execute_result"
    }
   ],
   "source": [
    "#Find Largest Element from Array\n",
    "def getLargest():\n",
    "    arr=[2,4,5,3,9,5,2,8]\n",
    "    largest=arr[0]\n",
    "    for i in range(0,len(arr)):\n",
    "        if largest<arr[i]:\n",
    "            largest=arr[i]\n",
    "    return largest\n",
    "getLargest() \n"
   ]
  },
  {
   "cell_type": "code",
   "execution_count": null,
   "id": "1137680f-9821-4787-b1f2-145ccf65044f",
   "metadata": {},
   "outputs": [],
   "source": []
  },
  {
   "cell_type": "code",
   "execution_count": null,
   "id": "8633c4da-d319-4568-ae6e-37c98b6a2c1a",
   "metadata": {},
   "outputs": [],
   "source": []
  }
 ],
 "metadata": {
  "kernelspec": {
   "display_name": "Python 3 (ipykernel)",
   "language": "python",
   "name": "python3"
  },
  "language_info": {
   "codemirror_mode": {
    "name": "ipython",
    "version": 3
   },
   "file_extension": ".py",
   "mimetype": "text/x-python",
   "name": "python",
   "nbconvert_exporter": "python",
   "pygments_lexer": "ipython3",
   "version": "3.9.7"
  }
 },
 "nbformat": 4,
 "nbformat_minor": 5
}
