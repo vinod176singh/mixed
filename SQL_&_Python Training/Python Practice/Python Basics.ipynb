{
 "cells": [
  {
   "cell_type": "markdown",
   "id": "236441e8",
   "metadata": {},
   "source": [
    "Python Program to Print Hello world!"
   ]
  },
  {
   "cell_type": "code",
   "execution_count": 23,
   "id": "371c41a7",
   "metadata": {},
   "outputs": [
    {
     "name": "stdout",
     "output_type": "stream",
     "text": [
      "Hello World\n"
     ]
    }
   ],
   "source": [
    "print('Hello World')"
   ]
  },
  {
   "cell_type": "markdown",
   "id": "d4ecc669",
   "metadata": {},
   "source": [
    "Add Two Numbers"
   ]
  },
  {
   "cell_type": "code",
   "execution_count": 24,
   "id": "12d61bb2",
   "metadata": {},
   "outputs": [
    {
     "name": "stdout",
     "output_type": "stream",
     "text": [
      "Enter First Number:2\n",
      "Enter Second Number:3\n"
     ]
    },
    {
     "data": {
      "text/plain": [
       "'Sum of two number 2.0 and 3.0 is 5.0'"
      ]
     },
     "execution_count": 24,
     "metadata": {},
     "output_type": "execute_result"
    }
   ],
   "source": [
    "def AddTwoNum(a,b):\n",
    "    return 'Sum of two number {0} and {1} is {2}'.format(a,b,a+b)\n",
    "\n",
    "AddTwoNum(1,2)\n",
    "AddTwoNum(1.9,2.7)\n",
    "AddTwoNum(1.9,2)\n",
    "\n",
    "a=float(input('Enter First Number:'))\n",
    "b=float(input('Enter Second Number:'))\n",
    "AddTwoNum(a,b)"
   ]
  },
  {
   "cell_type": "markdown",
   "id": "d53c290a",
   "metadata": {},
   "source": [
    "Find the Square Root"
   ]
  },
  {
   "cell_type": "code",
   "execution_count": 30,
   "id": "7c87c5b6",
   "metadata": {},
   "outputs": [
    {
     "name": "stdout",
     "output_type": "stream",
     "text": [
      "Enter Number for square root:4\n"
     ]
    },
    {
     "data": {
      "text/plain": [
       "'square root of given number 4.000 is 2.000'"
      ]
     },
     "execution_count": 30,
     "metadata": {},
     "output_type": "execute_result"
    }
   ],
   "source": [
    "a=float(input('Enter Number for square root:'))\n",
    "def sqrt(a):\n",
    "    return 'square root of given number %0.3f is %0.3f'%(a,a**0.5)\n",
    "sqrt(a)"
   ]
  },
  {
   "cell_type": "markdown",
   "id": "22fbc107",
   "metadata": {},
   "source": [
    "Area of a Triangle"
   ]
  },
  {
   "cell_type": "code",
   "execution_count": 37,
   "id": "90f4c501",
   "metadata": {},
   "outputs": [
    {
     "name": "stdout",
     "output_type": "stream",
     "text": [
      "Enter First edge of tringle 5\n",
      "Enter Second edge of tringle 6\n",
      "Enter Third edge of tringle 7\n",
      "area of triangle having edge 5.000,6.000,7.000 is 14.70\n"
     ]
    }
   ],
   "source": [
    "def areaOfTriangle():\n",
    "    a=float(input('Enter First edge of tringle '))\n",
    "    b=float(input('Enter Second edge of tringle '))\n",
    "    c=float(input('Enter Third edge of tringle '))\n",
    "    s=(a+b+c)/2\n",
    "    area=(s*(s-a)*(s-b)*(s-c))**0.5\n",
    "    print('area of triangle having edge %0.3f,%0.3f,%0.3f is %0.2f'%(a,b,c,area))\n",
    "areaOfTriangle()"
   ]
  },
  {
   "cell_type": "markdown",
   "id": "8b554ac9",
   "metadata": {},
   "source": [
    "Swap Two Variables"
   ]
  },
  {
   "cell_type": "code",
   "execution_count": 45,
   "id": "771f330c",
   "metadata": {},
   "outputs": [
    {
     "name": "stdout",
     "output_type": "stream",
     "text": [
      "Value before swapping 3 and 6 \n",
      "Value after swapping 6 and 3\n"
     ]
    }
   ],
   "source": [
    "def SwapTwoValue(a,b):\n",
    "    print('Value before swapping {0} and {1} '.format(a,b))\n",
    "    temp=a\n",
    "    a=b\n",
    "    b=temp\n",
    "    print('Value after swapping {0} and {1}'.format(a,b))\n",
    "SwapTwoValue(3,6)"
   ]
  },
  {
   "cell_type": "code",
   "execution_count": 46,
   "id": "03fdb1c3",
   "metadata": {},
   "outputs": [
    {
     "name": "stdout",
     "output_type": "stream",
     "text": [
      "Value before swapping 3 and 6 \n",
      "Value after swapping 6 and 3\n"
     ]
    }
   ],
   "source": [
    "def SwapTwoValue(a,b):\n",
    "    print('Value before swapping {0} and {1} '.format(a,b))\n",
    "    a=a+b\n",
    "    b=a-b\n",
    "    a=a-b\n",
    "    print('Value after swapping {0} and {1}'.format(a,b))\n",
    "SwapTwoValue(3,6)"
   ]
  },
  {
   "cell_type": "code",
   "execution_count": 48,
   "id": "bc3ada6e",
   "metadata": {},
   "outputs": [
    {
     "name": "stdout",
     "output_type": "stream",
     "text": [
      "Value before swapping 3 and 6 \n",
      "Value after swapping 6.0 and 3.0\n"
     ]
    }
   ],
   "source": [
    "def SwapTwoValue(a,b):\n",
    "    print('Value before swapping {0} and {1} '.format(a,b))\n",
    "    a=a*b\n",
    "    b=a/b\n",
    "    a=a/b\n",
    "    print('Value after swapping {0} and {1}'.format(a,b))\n",
    "SwapTwoValue(3,6)"
   ]
  },
  {
   "cell_type": "code",
   "execution_count": 50,
   "id": "13511f8f",
   "metadata": {},
   "outputs": [
    {
     "name": "stdout",
     "output_type": "stream",
     "text": [
      "Value before swapping 3 and 6 \n",
      "Value after swapping 6 and 3\n"
     ]
    }
   ],
   "source": [
    "def SwapTwoValue(a,b):\n",
    "    print('Value before swapping {0} and {1} '.format(a,b))\n",
    "    a=a^b\n",
    "    b=a^b\n",
    "    a=a^b\n",
    "    print('Value after swapping {0} and {1}'.format(a,b))\n",
    "SwapTwoValue(3,6)"
   ]
  },
  {
   "cell_type": "markdown",
   "id": "39c04386",
   "metadata": {},
   "source": [
    "Generate a Random Number"
   ]
  },
  {
   "cell_type": "code",
   "execution_count": 74,
   "id": "85c7a6c7",
   "metadata": {},
   "outputs": [
    {
     "name": "stdout",
     "output_type": "stream",
     "text": [
      "87\n"
     ]
    }
   ],
   "source": [
    "import random\n",
    "print(random.randint(0,99))"
   ]
  },
  {
   "cell_type": "markdown",
   "id": "ad7d5175",
   "metadata": {},
   "source": [
    "Check Prime Number"
   ]
  },
  {
   "cell_type": "code",
   "execution_count": 81,
   "id": "efa449a1",
   "metadata": {},
   "outputs": [
    {
     "name": "stdout",
     "output_type": "stream",
     "text": [
      "Given number 5 is prime number\n"
     ]
    }
   ],
   "source": [
    "def checkPrime(num):\n",
    "    if num>1:\n",
    "        for i in range(2,num):\n",
    "            if num%i==0:\n",
    "                flag=True\n",
    "                break\n",
    "        flag=False\n",
    "    if flag:\n",
    "        print('Given number {} is not prime number'.format(num))\n",
    "    else:\n",
    "        print('Given number {} is prime number'.format(num))\n",
    "checkPrime(5)\n",
    "            "
   ]
  },
  {
   "cell_type": "markdown",
   "id": "3e811946",
   "metadata": {},
   "source": [
    "all Prime Numbers in an Interval"
   ]
  },
  {
   "cell_type": "code",
   "execution_count": 86,
   "id": "707f7feb",
   "metadata": {},
   "outputs": [
    {
     "name": "stdout",
     "output_type": "stream",
     "text": [
      "101\n",
      "103\n",
      "107\n",
      "109\n",
      "113\n",
      "127\n",
      "131\n",
      "137\n",
      "139\n",
      "149\n"
     ]
    }
   ],
   "source": [
    "def primeBwnInterval(a,b):\n",
    "    start=a\n",
    "    end=b\n",
    "    for i in range(start,end+1):\n",
    "        if i>1:\n",
    "            for j in range(2,i):\n",
    "                if i%j==0:\n",
    "                    break\n",
    "            else:\n",
    "                print(i)\n",
    "                \n",
    "primeBwnInterval(100,150)"
   ]
  },
  {
   "cell_type": "code",
   "execution_count": 90,
   "id": "10d4ef0f",
   "metadata": {},
   "outputs": [
    {
     "data": {
      "text/plain": [
       "720"
      ]
     },
     "execution_count": 90,
     "metadata": {},
     "output_type": "execute_result"
    }
   ],
   "source": [
    "def factorial(num):\n",
    "    if num==0:\n",
    "        return 1\n",
    "    else:\n",
    "        return num*factorial(num-1)\n",
    "factorial(6)"
   ]
  },
  {
   "cell_type": "code",
   "execution_count": 98,
   "id": "7c6ec9a1",
   "metadata": {},
   "outputs": [
    {
     "data": {
      "text/plain": [
       "120"
      ]
     },
     "execution_count": 98,
     "metadata": {},
     "output_type": "execute_result"
    }
   ],
   "source": [
    "def factorial(num):\n",
    "    fact=1\n",
    "    if num==0:\n",
    "        return 1\n",
    "    elif num<0:\n",
    "        print('Factorial is not possible for negative number')\n",
    "    else:\n",
    "        for i in range(1,num+1):\n",
    "            fact=fact*i\n",
    "    return fact\n",
    "factorial(5)"
   ]
  },
  {
   "cell_type": "markdown",
   "id": "b06cf63d",
   "metadata": {},
   "source": [
    "Display the multiplication Table"
   ]
  },
  {
   "cell_type": "code",
   "execution_count": 102,
   "id": "a6111171",
   "metadata": {},
   "outputs": [
    {
     "name": "stdout",
     "output_type": "stream",
     "text": [
      "1  X  1  =  1\n",
      "1  X  2  =  2\n",
      "1  X  3  =  3\n",
      "1  X  4  =  4\n",
      "1  X  5  =  5\n",
      "1  X  6  =  6\n",
      "1  X  7  =  7\n",
      "1  X  8  =  8\n",
      "1  X  9  =  9\n",
      "1  X  10  =  10\n"
     ]
    }
   ],
   "source": [
    "def multiplicationTable(a):\n",
    "    for i in range(1,11):\n",
    "        print(a,' X ', i, ' = ',a*i)\n",
    "        \n",
    "multiplicationTable(1)"
   ]
  },
  {
   "cell_type": "markdown",
   "id": "a8142b13",
   "metadata": {},
   "source": [
    "Fibonacci sequence"
   ]
  },
  {
   "cell_type": "code",
   "execution_count": 105,
   "id": "5410cfc6",
   "metadata": {},
   "outputs": [
    {
     "name": "stdout",
     "output_type": "stream",
     "text": [
      "0\n",
      "1\n",
      "1\n",
      "2\n",
      "3\n",
      "5\n",
      "8\n",
      "13\n",
      "21\n",
      "34\n"
     ]
    }
   ],
   "source": [
    "def fibonacci(num):\n",
    "    a=0\n",
    "    b=1\n",
    "    for i in range(10):\n",
    "        c=a+b\n",
    "        print(a)\n",
    "        a=b\n",
    "        b=c\n",
    "fibonacci(10)    "
   ]
  },
  {
   "cell_type": "code",
   "execution_count": 115,
   "id": "2fc875f3",
   "metadata": {},
   "outputs": [
    {
     "name": "stdout",
     "output_type": "stream",
     "text": [
      "A\n"
     ]
    }
   ],
   "source": [
    "print(chr(65))"
   ]
  },
  {
   "cell_type": "code",
   "execution_count": 116,
   "id": "e10c6a50",
   "metadata": {},
   "outputs": [
    {
     "name": "stdout",
     "output_type": "stream",
     "text": [
      "65\n"
     ]
    }
   ],
   "source": [
    "print(ord('A'))"
   ]
  },
  {
   "cell_type": "code",
   "execution_count": 7,
   "id": "efa932e8",
   "metadata": {},
   "outputs": [
    {
     "data": {
      "text/plain": [
       "[2, 3, 4]"
      ]
     },
     "execution_count": 7,
     "metadata": {},
     "output_type": "execute_result"
    }
   ],
   "source": [
    "def duplicates(arr): \n",
    "    if arr is None:\n",
    "        return -1\n",
    "    l=[]\n",
    "    for i in range(len(arr)):\n",
    "        for j in range(i+1,len(arr)):\n",
    "            if arr[i]==arr[j]:\n",
    "                l.append(arr[i])\n",
    "    if l is None:\n",
    "        return -1\n",
    "    else :\n",
    "        return l\n",
    "duplicates([1,2,3,4,2,3,4])"
   ]
  },
  {
   "cell_type": "code",
   "execution_count": 4,
   "id": "413e373c",
   "metadata": {},
   "outputs": [
    {
     "name": "stdout",
     "output_type": "stream",
     "text": [
      "{2, 3, 4, 5}\n"
     ]
    }
   ],
   "source": [
    "lst=[]\n",
    "temp=[]\n",
    "arr=[2,3,4,2,4,3,4,5,6,5]\n",
    "for i in range(len(arr)):\n",
    "    if arr[i] not in lst:\n",
    "        lst.append(arr[i])\n",
    "    else:\n",
    "        temp.append(arr[i])\n",
    "print(set(temp))"
   ]
  },
  {
   "cell_type": "code",
   "execution_count": 17,
   "id": "6a4ea9d0",
   "metadata": {},
   "outputs": [
    {
     "data": {
      "text/plain": [
       "[1, 2, 3, 4]"
      ]
     },
     "execution_count": 17,
     "metadata": {},
     "output_type": "execute_result"
    }
   ],
   "source": [
    "def duplicates(arr): \n",
    "    arr.sort()\n",
    "    if arr is None:\n",
    "        return -1\n",
    "    NotdupNext=1\n",
    "    for next in range(len(arr)):\n",
    "        if arr[next]!=arr[NotdupNext-1]:\n",
    "            arr[NotdupNext]=arr[next]\n",
    "            NotdupNext+=1\n",
    "    result=[0 for i in range(NotdupNext)]\n",
    "    for i in range(NotdupNext):\n",
    "        result[i]=arr[i]\n",
    "    return result\n",
    "duplicates([1,2,3,4,2,3,4])"
   ]
  },
  {
   "cell_type": "code",
   "execution_count": 16,
   "id": "6f9d35eb",
   "metadata": {},
   "outputs": [
    {
     "name": "stdout",
     "output_type": "stream",
     "text": [
      "[1, 2, 2, 3, 3, 4, 4]\n"
     ]
    }
   ],
   "source": [
    "arr=[-4,-2,-1,2,3]\n",
    "arr.sort()\n",
    "print(arr)"
   ]
  },
  {
   "cell_type": "code",
   "execution_count": null,
   "id": "b11faabd",
   "metadata": {},
   "outputs": [],
   "source": [
    "abcccb ,k=3\n",
    "abccc =5\n",
    "\n",
    "abcccb ,k=3\n",
    "abc=3\n",
    "\n",
    "xyzsdhsg  yzx\n",
    "\n",
    "\n",
    "123\n",
    "13\n",
    "10\n",
    "1\n",
    "\n",
    "12\n",
    "5\n",
    "25\n",
    "29\n",
    "85\n",
    "89\n",
    "144\n",
    "\n",
    "\n",
    "2,3,3,3,4,5,5,6\n",
    "next\n",
    "NonDupNext\n"
   ]
  }
 ],
 "metadata": {
  "kernelspec": {
   "display_name": "Python 3 (ipykernel)",
   "language": "python",
   "name": "python3"
  },
  "language_info": {
   "codemirror_mode": {
    "name": "ipython",
    "version": 3
   },
   "file_extension": ".py",
   "mimetype": "text/x-python",
   "name": "python",
   "nbconvert_exporter": "python",
   "pygments_lexer": "ipython3",
   "version": "3.9.7"
  }
 },
 "nbformat": 4,
 "nbformat_minor": 5
}
