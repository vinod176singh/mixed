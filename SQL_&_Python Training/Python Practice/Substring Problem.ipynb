{
 "cells": [
  {
   "cell_type": "code",
   "execution_count": 8,
   "id": "d69cd49e",
   "metadata": {},
   "outputs": [
    {
     "data": {
      "text/plain": [
       "7"
      ]
     },
     "execution_count": 8,
     "metadata": {},
     "output_type": "execute_result"
    }
   ],
   "source": [
    "def max_sub_string_k_repeating(str1,k):\n",
    "    max_len=0\n",
    "    for i in range(len(str1)):\n",
    "        distinct_char=set()\n",
    "        for j in range(i,len(str1)):\n",
    "            if len(distinct_char)>k:\n",
    "                break\n",
    "            max_len=max(j-i,max_len)\n",
    "            distinct_char.add(str1[j])\n",
    "    return max_len\n",
    "max_sub_string_k_repeating('abcddddeabcd',4)       "
   ]
  },
  {
   "cell_type": "code",
   "execution_count": null,
   "id": "fab73a9a",
   "metadata": {},
   "outputs": [],
   "source": [
    "xzyhshsuuzxgdxyxy\n",
    "\n",
    "xyz\n",
    "xzy\n",
    "yxz\n",
    "yzx\n",
    "zxy\n",
    "zyx\n",
    "\n",
    "if any pattern\n",
    "True\n",
    "no permutation \n",
    "False"
   ]
  },
  {
   "cell_type": "code",
   "execution_count": null,
   "id": "8fa83110",
   "metadata": {},
   "outputs": [],
   "source": [
    "aab  ppq True\n",
    "aab  pqp False\n",
    "  if isomarphic strig return true else false\n",
    "\n",
    "adnnmmss  wjffhhqq"
   ]
  }
 ],
 "metadata": {
  "kernelspec": {
   "display_name": "Python 3 (ipykernel)",
   "language": "python",
   "name": "python3"
  },
  "language_info": {
   "codemirror_mode": {
    "name": "ipython",
    "version": 3
   },
   "file_extension": ".py",
   "mimetype": "text/x-python",
   "name": "python",
   "nbconvert_exporter": "python",
   "pygments_lexer": "ipython3",
   "version": "3.9.7"
  }
 },
 "nbformat": 4,
 "nbformat_minor": 5
}
