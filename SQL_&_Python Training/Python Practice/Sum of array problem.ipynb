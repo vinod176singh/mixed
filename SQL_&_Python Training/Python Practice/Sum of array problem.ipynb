{
 "cells": [
  {
   "cell_type": "markdown",
   "id": "c7b785e4",
   "metadata": {},
   "source": [
    "Print all combination of given sum"
   ]
  },
  {
   "cell_type": "code",
   "execution_count": 11,
   "id": "68448e91",
   "metadata": {},
   "outputs": [
    {
     "data": {
      "text/plain": [
       "[]"
      ]
     },
     "execution_count": 11,
     "metadata": {},
     "output_type": "execute_result"
    }
   ],
   "source": [
    "arr=[2,3,4,5,4,2,3] \n",
    "given_sum=9\n",
    "k=?\n",
    "def sumCombination(arr,given_sum):\n",
    "    current_sum,result_lst=0,[]\n",
    "    for start in range(len(arr)):\n",
    "            inter_result=[]\n",
    "            inter_result.append(arr[start])   \n",
    "            current_sum=arr[start]\n",
    "            for end in range(start+1,len(arr)):\n",
    "                if current_sum==given_sum and k<=2:\n",
    "                    result_lst.append(inter_result)\n",
    "                elif current_sum<given_sum and k<=2:\n",
    "                    current_sum+=arr[end]\n",
    "                    inter_result.append(arr[end])\n",
    "                else:\n",
    "                    break\n",
    "                \n",
    "    return result_lst        \n",
    "sumCombination(arr,given_sum)"
   ]
  },
  {
   "cell_type": "markdown",
   "id": "513b1c95",
   "metadata": {},
   "source": [
    "Print all combination of given sum and frequency"
   ]
  },
  {
   "cell_type": "code",
   "execution_count": 14,
   "id": "f98cfe97",
   "metadata": {},
   "outputs": [
    {
     "name": "stdout",
     "output_type": "stream",
     "text": [
      "[3, 5]\n",
      "[4, 4]\n",
      "[5, 3]\n"
     ]
    }
   ],
   "source": [
    "arr=[2,3,4,5,4,2,3] \n",
    "given_sum=8\n",
    "k=2\n",
    "for start in range(len(arr)):\n",
    "    for end in range(start+1,len(arr)):\n",
    "        if arr[start]+arr[end]==given_sum:\n",
    "            print([arr[start],arr[end]])"
   ]
  },
  {
   "cell_type": "markdown",
   "id": "07c09852",
   "metadata": {},
   "source": [
    "Print unique combination of given sum and frequency"
   ]
  },
  {
   "cell_type": "code",
   "execution_count": 23,
   "id": "205f3a32",
   "metadata": {},
   "outputs": [
    {
     "name": "stdout",
     "output_type": "stream",
     "text": [
      "[3, 5]\n",
      "[4, 4]\n"
     ]
    }
   ],
   "source": [
    "arr=[2,3,4,5,4,2,3] \n",
    "given_sum=8\n",
    "k=2\n",
    "arr.sort()\n",
    "right=len(arr)-1\n",
    "left=0\n",
    "while right>left:\n",
    "    if arr[left]+arr[right]==given_sum:\n",
    "        print([arr[left],arr[right]])\n",
    "        right-=1\n",
    "        left+=1\n",
    "    elif arr[left]+arr[right]>given_sum:\n",
    "        right-=1\n",
    "    else:\n",
    "        left+=1\n",
    "        "
   ]
  }
 ],
 "metadata": {
  "kernelspec": {
   "display_name": "Python 3 (ipykernel)",
   "language": "python",
   "name": "python3"
  },
  "language_info": {
   "codemirror_mode": {
    "name": "ipython",
    "version": 3
   },
   "file_extension": ".py",
   "mimetype": "text/x-python",
   "name": "python",
   "nbconvert_exporter": "python",
   "pygments_lexer": "ipython3",
   "version": "3.9.7"
  }
 },
 "nbformat": 4,
 "nbformat_minor": 5
}
