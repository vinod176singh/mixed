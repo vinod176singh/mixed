{
 "cells": [
  {
   "cell_type": "code",
   "execution_count": 8,
   "id": "9a79568b",
   "metadata": {},
   "outputs": [
    {
     "name": "stdout",
     "output_type": "stream",
     "text": [
      "2.0\n"
     ]
    }
   ],
   "source": [
    "def divide(x,y):  \n",
    "    print(x/y)  \n",
    "def outer_div(func):  \n",
    "    def inner(x,y):  \n",
    "        if(x<y):  \n",
    "            x,y = y,x \n",
    "        return func(x,y) \n",
    "    return inner  \n",
    "divide1 = outer_div(divide)  \n",
    "divide1(2,4)"
   ]
  },
  {
   "cell_type": "code",
   "execution_count": 19,
   "id": "880bd7c9",
   "metadata": {},
   "outputs": [],
   "source": [
    "def outer_div(func):  \n",
    "    def inner(x,y):  \n",
    "        if(x<y):  \n",
    "           x,y = y,x  \n",
    "        return func(x,y)  \n",
    "    return inner  \n",
    "# syntax of decorator  \n",
    "@outer_div  \n",
    "def divide(x,y):  \n",
    "     print(x/y)  "
   ]
  },
  {
   "cell_type": "code",
   "execution_count": 20,
   "id": "07c1a283",
   "metadata": {},
   "outputs": [
    {
     "name": "stdout",
     "output_type": "stream",
     "text": [
      "2.0\n"
     ]
    }
   ],
   "source": [
    "divide(2,4)"
   ]
  },
  {
   "cell_type": "code",
   "execution_count": null,
   "id": "49ccb6ea",
   "metadata": {},
   "outputs": [],
   "source": []
  }
 ],
 "metadata": {
  "kernelspec": {
   "display_name": "Python 3 (ipykernel)",
   "language": "python",
   "name": "python3"
  },
  "language_info": {
   "codemirror_mode": {
    "name": "ipython",
    "version": 3
   },
   "file_extension": ".py",
   "mimetype": "text/x-python",
   "name": "python",
   "nbconvert_exporter": "python",
   "pygments_lexer": "ipython3",
   "version": "3.9.7"
  }
 },
 "nbformat": 4,
 "nbformat_minor": 5
}
